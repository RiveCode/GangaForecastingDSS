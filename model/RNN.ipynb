{
 "cells": [
  {
   "cell_type": "code",
   "execution_count": 1,
   "metadata": {},
   "outputs": [],
   "source": [
    "# Importing necessary libraries\n",
    "import numpy as np\n",
    "import pandas as pd\n",
    "from sklearn.preprocessing import MinMaxScaler\n",
    "from sklearn.model_selection import train_test_split\n",
    "from sklearn.metrics import classification_report, accuracy_score\n",
    "from tensorflow.keras.models import Sequential\n",
    "from tensorflow.keras.layers import SimpleRNN, Dense\n",
    "from tensorflow.keras.optimizers import Adam\n",
    "from tensorflow.keras import regularizers\n",
    "import matplotlib.pyplot as plt"
   ]
  },
  {
   "cell_type": "code",
   "execution_count": 3,
   "metadata": {},
   "outputs": [
    {
     "name": "stdout",
     "output_type": "stream",
     "text": [
      "Index(['Index', 'pH', 'Nitrate', 'Color', 'Turbidity', 'Odor', 'Chlorine',\n",
      "       'Total Dissolved Solids', 'Target'],\n",
      "      dtype='object')\n",
      "   Index        pH   Nitrate         Color  Turbidity      Odor  Chlorine  \\\n",
      "0      2  5.443762  3.816994  Light Yellow   0.319956  3.414619  3.560224   \n",
      "1      7  7.258203  9.261676     Colorless   0.047803  3.144199  2.325094   \n",
      "2      9  7.100650  3.620641     Colorless   0.050613  2.713379  2.284971   \n",
      "3     20  9.686076  9.588365  Faint Yellow   0.040746  2.937562  3.338544   \n",
      "4     44  5.400853  5.739483  Light Yellow   0.345791       NaN  2.770273   \n",
      "\n",
      "   Total Dissolved Solids  Target  \n",
      "0              570.054094       0  \n",
      "1              214.553104       0  \n",
      "2              113.909077       0  \n",
      "3              270.921435       0  \n",
      "4              478.567391       0  \n"
     ]
    }
   ],
   "source": [
    "# Load the dataset\n",
    "data = pd.read_csv('River.csv')\n",
    "\n",
    "# Check the columns and a few rows to identify the exact column names\n",
    "print(data.columns)\n",
    "print(data.head())  # Check a few rows of the dataset to ensure column names are correct\n"
   ]
  },
  {
   "cell_type": "code",
   "execution_count": 6,
   "metadata": {},
   "outputs": [],
   "source": [
    "from sklearn.preprocessing import LabelEncoder\n",
    "\n",
    "# Initialize the LabelEncoder\n",
    "label_encoder = LabelEncoder()\n",
    "\n",
    "# Convert categorical columns to numeric\n",
    "data['Color'] = label_encoder.fit_transform(data['Color'])  # Example for the 'Color' column\n",
    "# Apply the same for other categorical columns if needed (e.g., 'Odor', etc.)\n",
    "\n",
    "# Now, proceed with defining the features (X) and target (Y)\n",
    "X = data[['pH', 'Nitrate', 'Color', 'Turbidity', 'Odor', 'Chlorine', 'Total Dissolved Solids']].values\n",
    "Y = data['Target'].values  # Assuming 'Target' is the water safety indicator (0 or 1)\n",
    "\n",
    "# Convert to float32 for neural network compatibility\n",
    "X = X.astype('float32')\n",
    "Y = Y.astype('float32')\n"
   ]
  },
  {
   "cell_type": "code",
   "execution_count": 7,
   "metadata": {},
   "outputs": [],
   "source": [
    "# Define the correct features and target based on the columns in the dataset\n",
    "X = data[['pH', 'Nitrate', 'Color', 'Turbidity', 'Odor', 'Chlorine', 'Total Dissolved Solids']].values  # Modify with the correct column names\n",
    "Y = data['Target'].values  # Assuming 'target' is the water safety indicator (0 or 1)\n",
    "\n",
    "# Convert to float32 for neural network compatibility\n",
    "X = X.astype('float32')\n",
    "Y = Y.astype('float32')"
   ]
  },
  {
   "cell_type": "code",
   "execution_count": 8,
   "metadata": {},
   "outputs": [],
   "source": [
    "# Scaling the features to [0, 1]\n",
    "scaler = MinMaxScaler()\n",
    "X_scaled = scaler.fit_transform(X)\n"
   ]
  },
  {
   "cell_type": "code",
   "execution_count": 9,
   "metadata": {},
   "outputs": [],
   "source": [
    "# Reshaping the data for RNN [samples, timesteps, features]\n",
    "X_scaled = X_scaled.reshape((X_scaled.shape[0], 1, X_scaled.shape[1]))  # Timesteps = 1"
   ]
  },
  {
   "cell_type": "code",
   "execution_count": 10,
   "metadata": {},
   "outputs": [],
   "source": [
    "# Split the data into training and testing sets\n",
    "X_train, X_test, Y_train, Y_test = train_test_split(X_scaled, Y, test_size=0.2, random_state=42)"
   ]
  },
  {
   "cell_type": "code",
   "execution_count": 11,
   "metadata": {},
   "outputs": [
    {
     "name": "stderr",
     "output_type": "stream",
     "text": [
      "c:\\Users\\Dell\\AppData\\Local\\Programs\\Python\\Python312\\Lib\\site-packages\\keras\\src\\layers\\rnn\\rnn.py:200: UserWarning: Do not pass an `input_shape`/`input_dim` argument to a layer. When using Sequential models, prefer using an `Input(shape)` object as the first layer in the model instead.\n",
      "  super().__init__(**kwargs)\n"
     ]
    }
   ],
   "source": [
    "# Build the RNN model\n",
    "model = Sequential()\n",
    "\n",
    "# Add the RNN layer with 64 units and L2 regularization\n",
    "model.add(SimpleRNN(units=64, activation='tanh',\n",
    "                    input_shape=(X_train.shape[1], X_train.shape[2]),\n",
    "                    kernel_regularizer=regularizers.l2(0.01)))  # L2 regularization\n",
    "\n",
    "# Add a Dense layer with 1 unit and sigmoid activation for binary classification\n",
    "model.add(Dense(units=1, activation='sigmoid'))  # Sigmoid for binary classification"
   ]
  },
  {
   "cell_type": "code",
   "execution_count": 12,
   "metadata": {},
   "outputs": [],
   "source": [
    "# Compile the model\n",
    "model.compile(optimizer=Adam(learning_rate=0.001), loss='binary_crossentropy', metrics=['accuracy'])"
   ]
  },
  {
   "cell_type": "code",
   "execution_count": 13,
   "metadata": {},
   "outputs": [
    {
     "name": "stdout",
     "output_type": "stream",
     "text": [
      "Epoch 1/50\n",
      "\u001b[1m2580/2580\u001b[0m \u001b[32m━━━━━━━━━━━━━━━━━━━━\u001b[0m\u001b[37m\u001b[0m \u001b[1m9s\u001b[0m 3ms/step - accuracy: 0.7686 - loss: nan - val_accuracy: 0.7687 - val_loss: nan\n",
      "Epoch 2/50\n",
      "\u001b[1m2580/2580\u001b[0m \u001b[32m━━━━━━━━━━━━━━━━━━━━\u001b[0m\u001b[37m\u001b[0m \u001b[1m7s\u001b[0m 3ms/step - accuracy: 0.7706 - loss: nan - val_accuracy: 0.7687 - val_loss: nan\n",
      "Epoch 3/50\n",
      "\u001b[1m2580/2580\u001b[0m \u001b[32m━━━━━━━━━━━━━━━━━━━━\u001b[0m\u001b[37m\u001b[0m \u001b[1m7s\u001b[0m 3ms/step - accuracy: 0.7720 - loss: nan - val_accuracy: 0.7687 - val_loss: nan\n",
      "Epoch 4/50\n",
      "\u001b[1m2580/2580\u001b[0m \u001b[32m━━━━━━━━━━━━━━━━━━━━\u001b[0m\u001b[37m\u001b[0m \u001b[1m10s\u001b[0m 3ms/step - accuracy: 0.7686 - loss: nan - val_accuracy: 0.7687 - val_loss: nan\n",
      "Epoch 5/50\n",
      "\u001b[1m2580/2580\u001b[0m \u001b[32m━━━━━━━━━━━━━━━━━━━━\u001b[0m\u001b[37m\u001b[0m \u001b[1m11s\u001b[0m 3ms/step - accuracy: 0.7701 - loss: nan - val_accuracy: 0.7687 - val_loss: nan\n",
      "Epoch 6/50\n",
      "\u001b[1m2580/2580\u001b[0m \u001b[32m━━━━━━━━━━━━━━━━━━━━\u001b[0m\u001b[37m\u001b[0m \u001b[1m7s\u001b[0m 3ms/step - accuracy: 0.7718 - loss: nan - val_accuracy: 0.7687 - val_loss: nan\n",
      "Epoch 7/50\n",
      "\u001b[1m2580/2580\u001b[0m \u001b[32m━━━━━━━━━━━━━━━━━━━━\u001b[0m\u001b[37m\u001b[0m \u001b[1m7s\u001b[0m 3ms/step - accuracy: 0.7698 - loss: nan - val_accuracy: 0.7687 - val_loss: nan\n",
      "Epoch 8/50\n",
      "\u001b[1m2580/2580\u001b[0m \u001b[32m━━━━━━━━━━━━━━━━━━━━\u001b[0m\u001b[37m\u001b[0m \u001b[1m7s\u001b[0m 3ms/step - accuracy: 0.7683 - loss: nan - val_accuracy: 0.7687 - val_loss: nan\n",
      "Epoch 9/50\n",
      "\u001b[1m2580/2580\u001b[0m \u001b[32m━━━━━━━━━━━━━━━━━━━━\u001b[0m\u001b[37m\u001b[0m \u001b[1m7s\u001b[0m 3ms/step - accuracy: 0.7696 - loss: nan - val_accuracy: 0.7687 - val_loss: nan\n",
      "Epoch 10/50\n",
      "\u001b[1m2580/2580\u001b[0m \u001b[32m━━━━━━━━━━━━━━━━━━━━\u001b[0m\u001b[37m\u001b[0m \u001b[1m8s\u001b[0m 3ms/step - accuracy: 0.7691 - loss: nan - val_accuracy: 0.7687 - val_loss: nan\n",
      "Epoch 11/50\n",
      "\u001b[1m2580/2580\u001b[0m \u001b[32m━━━━━━━━━━━━━━━━━━━━\u001b[0m\u001b[37m\u001b[0m \u001b[1m7s\u001b[0m 3ms/step - accuracy: 0.7679 - loss: nan - val_accuracy: 0.7687 - val_loss: nan\n",
      "Epoch 12/50\n",
      "\u001b[1m2580/2580\u001b[0m \u001b[32m━━━━━━━━━━━━━━━━━━━━\u001b[0m\u001b[37m\u001b[0m \u001b[1m7s\u001b[0m 3ms/step - accuracy: 0.7675 - loss: nan - val_accuracy: 0.7687 - val_loss: nan\n",
      "Epoch 13/50\n",
      "\u001b[1m2580/2580\u001b[0m \u001b[32m━━━━━━━━━━━━━━━━━━━━\u001b[0m\u001b[37m\u001b[0m \u001b[1m8s\u001b[0m 3ms/step - accuracy: 0.7720 - loss: nan - val_accuracy: 0.7687 - val_loss: nan\n",
      "Epoch 14/50\n",
      "\u001b[1m2580/2580\u001b[0m \u001b[32m━━━━━━━━━━━━━━━━━━━━\u001b[0m\u001b[37m\u001b[0m \u001b[1m7s\u001b[0m 3ms/step - accuracy: 0.7700 - loss: nan - val_accuracy: 0.7687 - val_loss: nan\n",
      "Epoch 15/50\n",
      "\u001b[1m2580/2580\u001b[0m \u001b[32m━━━━━━━━━━━━━━━━━━━━\u001b[0m\u001b[37m\u001b[0m \u001b[1m7s\u001b[0m 3ms/step - accuracy: 0.7701 - loss: nan - val_accuracy: 0.7687 - val_loss: nan\n",
      "Epoch 16/50\n",
      "\u001b[1m2580/2580\u001b[0m \u001b[32m━━━━━━━━━━━━━━━━━━━━\u001b[0m\u001b[37m\u001b[0m \u001b[1m7s\u001b[0m 3ms/step - accuracy: 0.7700 - loss: nan - val_accuracy: 0.7687 - val_loss: nan\n",
      "Epoch 17/50\n",
      "\u001b[1m2580/2580\u001b[0m \u001b[32m━━━━━━━━━━━━━━━━━━━━\u001b[0m\u001b[37m\u001b[0m \u001b[1m7s\u001b[0m 3ms/step - accuracy: 0.7698 - loss: nan - val_accuracy: 0.7687 - val_loss: nan\n",
      "Epoch 18/50\n",
      "\u001b[1m2580/2580\u001b[0m \u001b[32m━━━━━━━━━━━━━━━━━━━━\u001b[0m\u001b[37m\u001b[0m \u001b[1m10s\u001b[0m 3ms/step - accuracy: 0.7684 - loss: nan - val_accuracy: 0.7687 - val_loss: nan\n",
      "Epoch 19/50\n",
      "\u001b[1m2580/2580\u001b[0m \u001b[32m━━━━━━━━━━━━━━━━━━━━\u001b[0m\u001b[37m\u001b[0m \u001b[1m10s\u001b[0m 3ms/step - accuracy: 0.7709 - loss: nan - val_accuracy: 0.7687 - val_loss: nan\n",
      "Epoch 20/50\n",
      "\u001b[1m2580/2580\u001b[0m \u001b[32m━━━━━━━━━━━━━━━━━━━━\u001b[0m\u001b[37m\u001b[0m \u001b[1m7s\u001b[0m 3ms/step - accuracy: 0.7707 - loss: nan - val_accuracy: 0.7687 - val_loss: nan\n",
      "Epoch 21/50\n",
      "\u001b[1m2580/2580\u001b[0m \u001b[32m━━━━━━━━━━━━━━━━━━━━\u001b[0m\u001b[37m\u001b[0m \u001b[1m10s\u001b[0m 3ms/step - accuracy: 0.7691 - loss: nan - val_accuracy: 0.7687 - val_loss: nan\n",
      "Epoch 22/50\n",
      "\u001b[1m2580/2580\u001b[0m \u001b[32m━━━━━━━━━━━━━━━━━━━━\u001b[0m\u001b[37m\u001b[0m \u001b[1m7s\u001b[0m 3ms/step - accuracy: 0.7692 - loss: nan - val_accuracy: 0.7687 - val_loss: nan\n",
      "Epoch 23/50\n",
      "\u001b[1m2580/2580\u001b[0m \u001b[32m━━━━━━━━━━━━━━━━━━━━\u001b[0m\u001b[37m\u001b[0m \u001b[1m10s\u001b[0m 3ms/step - accuracy: 0.7705 - loss: nan - val_accuracy: 0.7687 - val_loss: nan\n",
      "Epoch 24/50\n",
      "\u001b[1m2580/2580\u001b[0m \u001b[32m━━━━━━━━━━━━━━━━━━━━\u001b[0m\u001b[37m\u001b[0m \u001b[1m10s\u001b[0m 3ms/step - accuracy: 0.7722 - loss: nan - val_accuracy: 0.7687 - val_loss: nan\n",
      "Epoch 25/50\n",
      "\u001b[1m2580/2580\u001b[0m \u001b[32m━━━━━━━━━━━━━━━━━━━━\u001b[0m\u001b[37m\u001b[0m \u001b[1m7s\u001b[0m 3ms/step - accuracy: 0.7691 - loss: nan - val_accuracy: 0.7687 - val_loss: nan\n",
      "Epoch 26/50\n",
      "\u001b[1m2580/2580\u001b[0m \u001b[32m━━━━━━━━━━━━━━━━━━━━\u001b[0m\u001b[37m\u001b[0m \u001b[1m10s\u001b[0m 3ms/step - accuracy: 0.7725 - loss: nan - val_accuracy: 0.7687 - val_loss: nan\n",
      "Epoch 27/50\n",
      "\u001b[1m2580/2580\u001b[0m \u001b[32m━━━━━━━━━━━━━━━━━━━━\u001b[0m\u001b[37m\u001b[0m \u001b[1m11s\u001b[0m 3ms/step - accuracy: 0.7687 - loss: nan - val_accuracy: 0.7687 - val_loss: nan\n",
      "Epoch 28/50\n",
      "\u001b[1m2580/2580\u001b[0m \u001b[32m━━━━━━━━━━━━━━━━━━━━\u001b[0m\u001b[37m\u001b[0m \u001b[1m7s\u001b[0m 3ms/step - accuracy: 0.7714 - loss: nan - val_accuracy: 0.7687 - val_loss: nan\n",
      "Epoch 29/50\n",
      "\u001b[1m2580/2580\u001b[0m \u001b[32m━━━━━━━━━━━━━━━━━━━━\u001b[0m\u001b[37m\u001b[0m \u001b[1m8s\u001b[0m 3ms/step - accuracy: 0.7691 - loss: nan - val_accuracy: 0.7687 - val_loss: nan\n",
      "Epoch 30/50\n",
      "\u001b[1m2580/2580\u001b[0m \u001b[32m━━━━━━━━━━━━━━━━━━━━\u001b[0m\u001b[37m\u001b[0m \u001b[1m10s\u001b[0m 3ms/step - accuracy: 0.7719 - loss: nan - val_accuracy: 0.7687 - val_loss: nan\n",
      "Epoch 31/50\n",
      "\u001b[1m2580/2580\u001b[0m \u001b[32m━━━━━━━━━━━━━━━━━━━━\u001b[0m\u001b[37m\u001b[0m \u001b[1m7s\u001b[0m 3ms/step - accuracy: 0.7679 - loss: nan - val_accuracy: 0.7687 - val_loss: nan\n",
      "Epoch 32/50\n",
      "\u001b[1m2580/2580\u001b[0m \u001b[32m━━━━━━━━━━━━━━━━━━━━\u001b[0m\u001b[37m\u001b[0m \u001b[1m10s\u001b[0m 3ms/step - accuracy: 0.7674 - loss: nan - val_accuracy: 0.7687 - val_loss: nan\n",
      "Epoch 33/50\n",
      "\u001b[1m2580/2580\u001b[0m \u001b[32m━━━━━━━━━━━━━━━━━━━━\u001b[0m\u001b[37m\u001b[0m \u001b[1m10s\u001b[0m 3ms/step - accuracy: 0.7672 - loss: nan - val_accuracy: 0.7687 - val_loss: nan\n",
      "Epoch 34/50\n",
      "\u001b[1m2580/2580\u001b[0m \u001b[32m━━━━━━━━━━━━━━━━━━━━\u001b[0m\u001b[37m\u001b[0m \u001b[1m10s\u001b[0m 3ms/step - accuracy: 0.7703 - loss: nan - val_accuracy: 0.7687 - val_loss: nan\n",
      "Epoch 35/50\n",
      "\u001b[1m2580/2580\u001b[0m \u001b[32m━━━━━━━━━━━━━━━━━━━━\u001b[0m\u001b[37m\u001b[0m \u001b[1m11s\u001b[0m 3ms/step - accuracy: 0.7689 - loss: nan - val_accuracy: 0.7687 - val_loss: nan\n",
      "Epoch 36/50\n",
      "\u001b[1m2580/2580\u001b[0m \u001b[32m━━━━━━━━━━━━━━━━━━━━\u001b[0m\u001b[37m\u001b[0m \u001b[1m7s\u001b[0m 3ms/step - accuracy: 0.7678 - loss: nan - val_accuracy: 0.7687 - val_loss: nan\n",
      "Epoch 37/50\n",
      "\u001b[1m2580/2580\u001b[0m \u001b[32m━━━━━━━━━━━━━━━━━━━━\u001b[0m\u001b[37m\u001b[0m \u001b[1m11s\u001b[0m 3ms/step - accuracy: 0.7693 - loss: nan - val_accuracy: 0.7687 - val_loss: nan\n",
      "Epoch 38/50\n",
      "\u001b[1m2580/2580\u001b[0m \u001b[32m━━━━━━━━━━━━━━━━━━━━\u001b[0m\u001b[37m\u001b[0m \u001b[1m10s\u001b[0m 3ms/step - accuracy: 0.7685 - loss: nan - val_accuracy: 0.7687 - val_loss: nan\n",
      "Epoch 39/50\n",
      "\u001b[1m2580/2580\u001b[0m \u001b[32m━━━━━━━━━━━━━━━━━━━━\u001b[0m\u001b[37m\u001b[0m \u001b[1m7s\u001b[0m 3ms/step - accuracy: 0.7694 - loss: nan - val_accuracy: 0.7687 - val_loss: nan\n",
      "Epoch 40/50\n",
      "\u001b[1m2580/2580\u001b[0m \u001b[32m━━━━━━━━━━━━━━━━━━━━\u001b[0m\u001b[37m\u001b[0m \u001b[1m7s\u001b[0m 3ms/step - accuracy: 0.7698 - loss: nan - val_accuracy: 0.7687 - val_loss: nan\n",
      "Epoch 41/50\n",
      "\u001b[1m2580/2580\u001b[0m \u001b[32m━━━━━━━━━━━━━━━━━━━━\u001b[0m\u001b[37m\u001b[0m \u001b[1m7s\u001b[0m 3ms/step - accuracy: 0.7706 - loss: nan - val_accuracy: 0.7687 - val_loss: nan\n",
      "Epoch 42/50\n",
      "\u001b[1m2580/2580\u001b[0m \u001b[32m━━━━━━━━━━━━━━━━━━━━\u001b[0m\u001b[37m\u001b[0m \u001b[1m10s\u001b[0m 3ms/step - accuracy: 0.7698 - loss: nan - val_accuracy: 0.7687 - val_loss: nan\n",
      "Epoch 43/50\n",
      "\u001b[1m2580/2580\u001b[0m \u001b[32m━━━━━━━━━━━━━━━━━━━━\u001b[0m\u001b[37m\u001b[0m \u001b[1m11s\u001b[0m 3ms/step - accuracy: 0.7705 - loss: nan - val_accuracy: 0.7687 - val_loss: nan\n",
      "Epoch 44/50\n",
      "\u001b[1m2580/2580\u001b[0m \u001b[32m━━━━━━━━━━━━━━━━━━━━\u001b[0m\u001b[37m\u001b[0m \u001b[1m8s\u001b[0m 3ms/step - accuracy: 0.7688 - loss: nan - val_accuracy: 0.7687 - val_loss: nan\n",
      "Epoch 45/50\n",
      "\u001b[1m2580/2580\u001b[0m \u001b[32m━━━━━━━━━━━━━━━━━━━━\u001b[0m\u001b[37m\u001b[0m \u001b[1m10s\u001b[0m 3ms/step - accuracy: 0.7683 - loss: nan - val_accuracy: 0.7687 - val_loss: nan\n",
      "Epoch 46/50\n",
      "\u001b[1m2580/2580\u001b[0m \u001b[32m━━━━━━━━━━━━━━━━━━━━\u001b[0m\u001b[37m\u001b[0m \u001b[1m7s\u001b[0m 3ms/step - accuracy: 0.7716 - loss: nan - val_accuracy: 0.7687 - val_loss: nan\n",
      "Epoch 47/50\n",
      "\u001b[1m2580/2580\u001b[0m \u001b[32m━━━━━━━━━━━━━━━━━━━━\u001b[0m\u001b[37m\u001b[0m \u001b[1m10s\u001b[0m 3ms/step - accuracy: 0.7679 - loss: nan - val_accuracy: 0.7687 - val_loss: nan\n",
      "Epoch 48/50\n",
      "\u001b[1m2580/2580\u001b[0m \u001b[32m━━━━━━━━━━━━━━━━━━━━\u001b[0m\u001b[37m\u001b[0m \u001b[1m7s\u001b[0m 3ms/step - accuracy: 0.7702 - loss: nan - val_accuracy: 0.7687 - val_loss: nan\n",
      "Epoch 49/50\n",
      "\u001b[1m2580/2580\u001b[0m \u001b[32m━━━━━━━━━━━━━━━━━━━━\u001b[0m\u001b[37m\u001b[0m \u001b[1m7s\u001b[0m 3ms/step - accuracy: 0.7723 - loss: nan - val_accuracy: 0.7687 - val_loss: nan\n",
      "Epoch 50/50\n",
      "\u001b[1m2580/2580\u001b[0m \u001b[32m━━━━━━━━━━━━━━━━━━━━\u001b[0m\u001b[37m\u001b[0m \u001b[1m12s\u001b[0m 5ms/step - accuracy: 0.7679 - loss: nan - val_accuracy: 0.7687 - val_loss: nan\n"
     ]
    }
   ],
   "source": [
    "# Train the model with 50 epochs and a batch size of 32\n",
    "history = model.fit(X_train, Y_train, epochs=50, batch_size=32, validation_split=0.2)"
   ]
  },
  {
   "cell_type": "code",
   "execution_count": 14,
   "metadata": {},
   "outputs": [
    {
     "name": "stdout",
     "output_type": "stream",
     "text": [
      "\u001b[1m807/807\u001b[0m \u001b[32m━━━━━━━━━━━━━━━━━━━━\u001b[0m\u001b[37m\u001b[0m \u001b[1m2s\u001b[0m 2ms/step - accuracy: 0.7700 - loss: nan\n",
      "Test Loss: nan, Test Accuracy: 0.7730268239974976\n"
     ]
    }
   ],
   "source": [
    "# Evaluate the model on the test set\n",
    "test_loss, test_accuracy = model.evaluate(X_test, Y_test)\n",
    "print(f'Test Loss: {test_loss}, Test Accuracy: {test_accuracy}')"
   ]
  },
  {
   "cell_type": "code",
   "execution_count": 15,
   "metadata": {},
   "outputs": [
    {
     "name": "stdout",
     "output_type": "stream",
     "text": [
      "\u001b[1m807/807\u001b[0m \u001b[32m━━━━━━━━━━━━━━━━━━━━\u001b[0m\u001b[37m\u001b[0m \u001b[1m2s\u001b[0m 2ms/step\n"
     ]
    }
   ],
   "source": [
    "# Make predictions on the test set\n",
    "predictions = model.predict(X_test)\n",
    "\n",
    "# Convert predictions to binary (0 or 1)\n",
    "predictions = (predictions > 0.5).astype('int32')  # Threshold of 0.5 for binary classification"
   ]
  },
  {
   "cell_type": "code",
   "execution_count": 16,
   "metadata": {},
   "outputs": [
    {
     "name": "stdout",
     "output_type": "stream",
     "text": [
      "              precision    recall  f1-score   support\n",
      "\n",
      "         0.0       0.77      1.00      0.87     19941\n",
      "         1.0       0.00      0.00      0.00      5855\n",
      "\n",
      "    accuracy                           0.77     25796\n",
      "   macro avg       0.39      0.50      0.44     25796\n",
      "weighted avg       0.60      0.77      0.67     25796\n",
      "\n",
      "Accuracy: 0.7730268258644751\n"
     ]
    },
    {
     "name": "stderr",
     "output_type": "stream",
     "text": [
      "c:\\Users\\Dell\\AppData\\Local\\Programs\\Python\\Python312\\Lib\\site-packages\\sklearn\\metrics\\_classification.py:1531: UndefinedMetricWarning: Precision is ill-defined and being set to 0.0 in labels with no predicted samples. Use `zero_division` parameter to control this behavior.\n",
      "  _warn_prf(average, modifier, f\"{metric.capitalize()} is\", len(result))\n",
      "c:\\Users\\Dell\\AppData\\Local\\Programs\\Python\\Python312\\Lib\\site-packages\\sklearn\\metrics\\_classification.py:1531: UndefinedMetricWarning: Precision is ill-defined and being set to 0.0 in labels with no predicted samples. Use `zero_division` parameter to control this behavior.\n",
      "  _warn_prf(average, modifier, f\"{metric.capitalize()} is\", len(result))\n",
      "c:\\Users\\Dell\\AppData\\Local\\Programs\\Python\\Python312\\Lib\\site-packages\\sklearn\\metrics\\_classification.py:1531: UndefinedMetricWarning: Precision is ill-defined and being set to 0.0 in labels with no predicted samples. Use `zero_division` parameter to control this behavior.\n",
      "  _warn_prf(average, modifier, f\"{metric.capitalize()} is\", len(result))\n"
     ]
    }
   ],
   "source": [
    "# Print classification report\n",
    "print(classification_report(Y_test, predictions))\n",
    "\n",
    "# Print accuracy score\n",
    "accuracy = accuracy_score(Y_test, predictions)\n",
    "print(f'Accuracy: {accuracy}')"
   ]
  },
  {
   "cell_type": "code",
   "execution_count": 17,
   "metadata": {},
   "outputs": [
    {
     "data": {
      "image/png": "[encoded data removed]",
      "text/plain": [
       "<Figure size 640x480 with 1 Axes>"
      ]
     },
     "metadata": {},
     "output_type": "display_data"
    },
    {
     "data": {
      "image/png": "[encoded data removed]",
      "text/plain": [
       "<Figure size 640x480 with 1 Axes>"
      ]
     },
     "metadata": {},
     "output_type": "display_data"
    }
   ],
   "source": [
    "# Plot the loss during training\n",
    "plt.plot(history.history['loss'], label='Training Loss')\n",
    "plt.plot(history.history['val_loss'], label='Validation Loss')\n",
    "plt.title('Model Loss')\n",
    "plt.xlabel('Epochs')\n",
    "plt.ylabel('Loss')\n",
    "plt.legend()\n",
    "plt.show()\n",
    "\n",
    "# Plot the accuracy during training\n",
    "plt.plot(history.history['accuracy'], label='Training Accuracy')\n",
    "plt.plot(history.history['val_accuracy'], label='Validation Accuracy')\n",
    "plt.title('Model Accuracy')\n",
    "plt.xlabel('Epochs')\n",
    "plt.ylabel('Accuracy')\n",
    "plt.legend()\n",
    "plt.show()"
   ]
  },
  {
   "cell_type": "code",
   "execution_count": null,
   "metadata": {},
   "outputs": [],
   "source": []
  }
 ],
 "metadata": {
  "kernelspec": {
   "display_name": "Python 3",
   "language": "python",
   "name": "python3"
  },
  "language_info": {
   "codemirror_mode": {
    "name": "ipython",
    "version": 3
   },
   "file_extension": ".py",
   "mimetype": "text/x-python",
   "name": "python",
   "nbconvert_exporter": "python",
   "pygments_lexer": "ipython3",
   "version": "3.12.2"
  }
 },
 "nbformat": 4,
 "nbformat_minor": 2
}
